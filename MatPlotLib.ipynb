{
 "cells": [
  {
   "cell_type": "markdown",
   "metadata": {
    "colab_type": "text",
    "id": "view-in-github"
   },
   "source": [
    "<a href=\"https://colab.research.google.com/github/nluizsoliveira/Data-Notes/blob/main/MatPlotLib.ipynb\" target=\"_parent\"><img src=\"https://colab.research.google.com/assets/colab-badge.svg\" alt=\"Open In Colab\"/></a>"
   ]
  },
  {
   "cell_type": "markdown",
   "metadata": {
    "id": "bXlrrYxRnyro"
   },
   "source": [
    "# MatPlotLib\n",
    "\n",
    "Is a library for data visualization in Python. It provides two APIs, **Axes** and **Pyplot**, which offer different approaches of using the library. "
   ]
  },
  {
   "cell_type": "markdown",
   "metadata": {
    "id": "Hvp05e9kn3Jy"
   },
   "source": [
    "# Axes vs Pyplot\n",
    "\n",
    "1. **Axes**: An explicit, lower level, object-oriented interface in which MatPlotLib is implemented. It provides more customizability. \n",
    "2. **Pyplot**: An implicit, higher level interface built over Axes. It provides a less verbose way of using MatPlotLib."
   ]
  },
  {
   "cell_type": "markdown",
   "metadata": {
    "id": "CrhzVSxwn5nn"
   },
   "source": [
    "# Pyplot\n",
    "\n",
    "It's a collection of functions that manipulate `Figure`(s). \n",
    "\n",
    "1. `Figure` is a top-level object that implements`Artist`. It holds all elements of a plot. \n",
    "2. `Artist` is the base class for objects that render into the Canvas.\n",
    "\n",
    "Pyplot preservs states across function calls.\n",
    "\n",
    "- **`plt`**: Pyplot class is usually abbreviated as plt. "
   ]
  },
  {
   "cell_type": "code",
   "execution_count": null,
   "metadata": {
    "id": "mAreVZ0Nn_na"
   },
   "outputs": [],
   "source": [
    "import matplotlib.pyplot as plt"
   ]
  },
  {
   "cell_type": "markdown",
   "metadata": {
    "id": "EKDdIb_1oC1F"
   },
   "source": [
    "- **`plt.plot()`**: Computes alterations made to plt object, such as coordinates or additional markers\n",
    "- **`plt.plot(y: [Number])`**: Plot array of coordinates as Y axis, while using the index `[0, len-1]` of coordinates as X axis. \n",
    "- **`plt.show()`**: Display interactive window(s) with your `Figure`(s). After displaying, it closes and unregisters figures from pyplot, IE, it cleans the state of plt class. "
   ]
  },
  {
   "cell_type": "code",
   "execution_count": null,
   "metadata": {
    "colab": {
     "base_uri": "https://localhost:8080/",
     "height": 265
    },
    "id": "fEizHd-koEGO",
    "outputId": "7df00c50-c2c5-4896-cb4b-40d039c62848"
   },
   "outputs": [],
   "source": [
    "y = [-1, 2, 3.5, 10]\n",
    "plt.plot(y)\n",
    "plt.show()"
   ]
  },
  {
   "cell_type": "code",
   "execution_count": null,
   "metadata": {},
   "outputs": [],
   "source": [
    "plt.show() # Wont work as previous show() unregistered alterations to plt"
   ]
  },
  {
   "cell_type": "markdown",
   "metadata": {
    "id": "HGcaUwbLoIvs"
   },
   "source": [
    "- **`plt.plot(x: [Number], y: [Number])`** Plot `y` array of coordinates on the Y axis, indexing them by `x` array on the X axis. "
   ]
  },
  {
   "cell_type": "code",
   "execution_count": null,
   "metadata": {
    "colab": {
     "base_uri": "https://localhost:8080/",
     "height": 282
    },
    "id": "nxW9pPq1oJwk",
    "outputId": "56fbf4ce-3342-404e-87e9-9418253a46b0"
   },
   "outputs": [],
   "source": [
    "x = [1,2,3,4]\n",
    "plt.plot(x,y)\n",
    "plt.show()"
   ]
  },
  {
   "cell_type": "markdown",
   "metadata": {
    "id": "EdTXkHz3oMrW"
   },
   "source": [
    "- **`plt.ylabel(label: str)`**: Set Y axis label\n",
    "- **`plt.xlabel(label: str)`**: Set X axis label"
   ]
  },
  {
   "cell_type": "code",
   "execution_count": null,
   "metadata": {
    "colab": {
     "base_uri": "https://localhost:8080/",
     "height": 296
    },
    "id": "0q_0Qbq-oQ5m",
    "outputId": "e2af6971-8d78-4ce7-ea14-88658d8e1f3f"
   },
   "outputs": [],
   "source": [
    "plt.ylabel(\"Random numbers\")\n",
    "plt.xlabel(\"Index\")\n",
    "plt.plot(x,y)\n",
    "plt.show()"
   ]
  },
  {
   "cell_type": "markdown",
   "metadata": {},
   "source": [
    "# Formatting Style with PyPlot\n",
    "\n",
    "It's possible to pass additional arguments indicating the style of the plot. \n",
    "\n",
    "This can be done by two ways: \n",
    "\n",
    "1. Passing a string with matlab `LineSpec` notation. \n",
    "2. Manually passing keywords arguments individually. "
   ]
  },
  {
   "cell_type": "markdown",
   "metadata": {},
   "source": [
    "- **`plot(x: [Number], y: [number], styling_format: str)`** plots using style defined in matlab LineSpec notation\n",
    "\n",
    "The styling format uses `marker`, `line` and `colour`. \n",
    "\n",
    "**MARKERS**\n",
    "\n",
    "| character |      description      |\n",
    "|:---------:|:---------------------:|\n",
    "| '.'       | point marker          |\n",
    "| ','       | pixel marker          |\n",
    "| 'o'       | circle marker         |\n",
    "| 'v'       | triangle_down marker  |\n",
    "| '^'       | triangle_up marker    |\n",
    "| '<'       | triangle_left marker  |\n",
    "| '>'       | triangle_right marker |\n",
    "| '1'       | tri_down marker       |\n",
    "| '2'       | tri_up marker         |\n",
    "| '3'       | tri_left marker       |\n",
    "| '4'       | tri_right marker      |\n",
    "| '8'       | octagon marker        |\n",
    "| 's'       | square marker         |\n",
    "| 'p'       | pentagon marker       |\n",
    "| 'P'       | plus (filled) marker  |\n",
    "| '*'       | star marker           |\n",
    "| 'h'       | hexagon1 marker       |\n",
    "| 'H'       | hexagon2 marker       |\n",
    "| '+'       | plus marker           |\n",
    "| 'x'       | x marker              |\n",
    "| 'X'       | x (filled) marker     |\n",
    "| 'D'       | diamond marker        |\n",
    "| 'd'       | thin_diamond marker   |\n",
    "| '\\|'      | vline marker          |\n",
    "| '_'       | hline marker          |\n",
    "\n",
    "\n",
    "**LINE STYLES**\n",
    "| character |     description     |\n",
    "|:---------:|:-------------------:|\n",
    "| '-'       | solid line style    |\n",
    "| '--'      | dashed line style   |\n",
    "| '-.'      | dash-dot line style |\n",
    "| ':'       | dotted line style   |\n",
    "\n",
    "**COLORS**\n",
    "| character |  color  |\n",
    "|:---------:|:-------:|\n",
    "| 'b'       | blue    |\n",
    "| 'g'       | green   |\n",
    "| 'r'       | red     |\n",
    "| 'c'       | cyan    |\n",
    "| 'm'       | magenta |\n",
    "| 'y'       | yellow  |\n",
    "| 'k'       | black   |\n",
    "| 'w'       | white   |"
   ]
  },
  {
   "cell_type": "code",
   "execution_count": null,
   "metadata": {},
   "outputs": [],
   "source": [
    "plt.plot(x, y, '.-b') # point, solid line, blue\n",
    "plt.show()"
   ]
  },
  {
   "cell_type": "code",
   "execution_count": null,
   "metadata": {},
   "outputs": [],
   "source": [
    "plt.plot(x, y, '--g') # no points, dashed, green\n",
    "plt.show()"
   ]
  },
  {
   "cell_type": "code",
   "execution_count": null,
   "metadata": {},
   "outputs": [],
   "source": [
    "plt.plot(x,y, 'or') # filled circles, no lines, red\n",
    "plt.show()"
   ]
  },
  {
   "cell_type": "markdown",
   "metadata": {},
   "source": [
    "- **`plot(x: [Number], y: [number], color = 'String', marker = 'String', linestyle='String')`** plots using styled `Line2d`keywords"
   ]
  },
  {
   "cell_type": "code",
   "execution_count": null,
   "metadata": {},
   "outputs": [],
   "source": [
    "plt.plot(x,y,color='b', marker='o', linestyle='')\n",
    "plt.show()"
   ]
  },
  {
   "cell_type": "code",
   "execution_count": null,
   "metadata": {},
   "outputs": [],
   "source": []
  }
 ],
 "metadata": {
  "colab": {
   "authorship_tag": "ABX9TyOs7qB0Jrygx2HvV6ZsFOWt",
   "include_colab_link": true,
   "provenance": [],
   "toc_visible": true
  },
  "kernelspec": {
   "display_name": "Python 3 (ipykernel)",
   "language": "python",
   "name": "python3"
  },
  "language_info": {
   "codemirror_mode": {
    "name": "ipython",
    "version": 3
   },
   "file_extension": ".py",
   "mimetype": "text/x-python",
   "name": "python",
   "nbconvert_exporter": "python",
   "pygments_lexer": "ipython3",
   "version": "3.8.10"
  }
 },
 "nbformat": 4,
 "nbformat_minor": 4
}
