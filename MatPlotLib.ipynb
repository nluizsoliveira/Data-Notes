{
  "nbformat": 4,
  "nbformat_minor": 0,
  "metadata": {
    "colab": {
      "provenance": [],
      "toc_visible": true,
      "authorship_tag": "ABX9TyOs7qB0Jrygx2HvV6ZsFOWt",
      "include_colab_link": true
    },
    "kernelspec": {
      "name": "python3",
      "display_name": "Python 3"
    },
    "language_info": {
      "name": "python"
    }
  },
  "cells": [
    {
      "cell_type": "markdown",
      "metadata": {
        "id": "view-in-github",
        "colab_type": "text"
      },
      "source": [
        "<a href=\"https://colab.research.google.com/github/nluizsoliveira/Data-Notes/blob/main/MatPlotLib.ipynb\" target=\"_parent\"><img src=\"https://colab.research.google.com/assets/colab-badge.svg\" alt=\"Open In Colab\"/></a>"
      ]
    },
    {
      "cell_type": "markdown",
      "source": [
        "# MatPlotLib\n",
        "\n",
        "Is a library for data visualization in Python. It provides two APIs, **Axes** and **Pyplot**, which offer different approaches of using the library. "
      ],
      "metadata": {
        "id": "bXlrrYxRnyro"
      }
    },
    {
      "cell_type": "markdown",
      "source": [
        "# Axes vs Pyplot\n",
        "\n",
        "1. **Axes**: An explicit, lower level, object-oriented interface in which MatPlotLib is implemented. It provides more customizability. \n",
        "2. **Pyplot**: An implicit, higher level interface built over Axes. It provides a less verbose way of using MatPlotLib."
      ],
      "metadata": {
        "id": "Hvp05e9kn3Jy"
      }
    },
    {
      "cell_type": "markdown",
      "source": [
        "# Pyplot\n",
        "\n",
        "It's a collection of functions that manipulate `Figure`(s). \n",
        "\n",
        "1. `Figure` is a top-level object that implements`Artist`. It holds all elements of a plot. \n",
        "2. `Artist` is the base class for objects that render into the Canvas.\n",
        "\n",
        "Pyplot preservs states across function calls.\n",
        "\n",
        "- **`plt()`**: Pyplot class is usually abbreviated as plt. "
      ],
      "metadata": {
        "id": "CrhzVSxwn5nn"
      }
    },
    {
      "cell_type": "code",
      "source": [
        "import matplotlib.pyplot as plt"
      ],
      "metadata": {
        "id": "mAreVZ0Nn_na"
      },
      "execution_count": 5,
      "outputs": []
    },
    {
      "cell_type": "markdown",
      "source": [
        "- **`plt.plot(y: [Number])`**: Plot array of coordinates as Y axis, while using the index of coordinates as X axis. \n",
        "- **`plt.show()`**: Opens one or more interactive windows that display your `Figure`(s)."
      ],
      "metadata": {
        "id": "EKDdIb_1oC1F"
      }
    },
    {
      "cell_type": "code",
      "source": [
        "y = [-1, 2, 3.5, 10]\n",
        "plt.plot(y)\n",
        "plt.show()"
      ],
      "metadata": {
        "colab": {
          "base_uri": "https://localhost:8080/",
          "height": 265
        },
        "id": "fEizHd-koEGO",
        "outputId": "7df00c50-c2c5-4896-cb4b-40d039c62848"
      },
      "execution_count": 6,
      "outputs": [
        {
          "output_type": "display_data",
          "data": {
            "text/plain": [
              "<Figure size 432x288 with 1 Axes>"
            ],
            "image/png": "[encoded data removed]"
          },
          "metadata": {
            "needs_background": "light"
          }
        }
      ]
    },
    {
      "cell_type": "markdown",
      "source": [
        "- **`plt.plot(x: [Number], y: [Number])`** Plot `y` array of coordinates on the Y axis, indexing them by `x` array on the X axis. "
      ],
      "metadata": {
        "id": "HGcaUwbLoIvs"
      }
    },
    {
      "cell_type": "code",
      "source": [
        "y = [-1, 2, 3.5, 10]\n",
        "x = [1,2,3,4]\n",
        "\n",
        "plt.plot(x,y)"
      ],
      "metadata": {
        "colab": {
          "base_uri": "https://localhost:8080/",
          "height": 282
        },
        "id": "nxW9pPq1oJwk",
        "outputId": "56fbf4ce-3342-404e-87e9-9418253a46b0"
      },
      "execution_count": 7,
      "outputs": [
        {
          "output_type": "execute_result",
          "data": {
            "text/plain": [
              "[<matplotlib.lines.Line2D at 0x7f01580b8e50>]"
            ]
          },
          "metadata": {},
          "execution_count": 7
        },
        {
          "output_type": "display_data",
          "data": {
            "text/plain": [
              "<Figure size 432x288 with 1 Axes>"
            ],
            "image/png": "[encoded data removed]"
          },
          "metadata": {
            "needs_background": "light"
          }
        }
      ]
    },
    {
      "cell_type": "markdown",
      "source": [
        "- **`plt.ylabel(label: str)`**: Set Y axis label\n",
        "- **`plt.xlabel(label: str)`**: Set X axis label"
      ],
      "metadata": {
        "id": "EdTXkHz3oMrW"
      }
    },
    {
      "cell_type": "code",
      "source": [
        "plt.ylabel(\"Random numbers\")\n",
        "plt.xlabel(\"Index\")\n",
        "\n",
        "plt.plot(x, y)"
      ],
      "metadata": {
        "colab": {
          "base_uri": "https://localhost:8080/",
          "height": 296
        },
        "id": "0q_0Qbq-oQ5m",
        "outputId": "e2af6971-8d78-4ce7-ea14-88658d8e1f3f"
      },
      "execution_count": 8,
      "outputs": [
        {
          "output_type": "execute_result",
          "data": {
            "text/plain": [
              "[<matplotlib.lines.Line2D at 0x7f01580e0590>]"
            ]
          },
          "metadata": {},
          "execution_count": 8
        },
        {
          "output_type": "display_data",
          "data": {
            "text/plain": [
              "<Figure size 432x288 with 1 Axes>"
            ],
            "image/png": "[encoded data removed]"
          },
          "metadata": {
            "needs_background": "light"
          }
        }
      ]
    }
  ]
}