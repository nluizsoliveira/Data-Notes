{
 "cells": [
  {
   "cell_type": "markdown",
   "metadata": {
    "colab_type": "text",
    "id": "view-in-github"
   },
   "source": [
    "<a href=\"https://colab.research.google.com/github/nluizsoliveira/IA-Applications-Notes/blob/main/0_proximity_measurements.ipynb\" target=\"_parent\"><img src=\"https://colab.research.google.com/assets/colab-badge.svg\" alt=\"Open In Colab\"/></a>"
   ]
  },
  {
   "cell_type": "markdown",
   "metadata": {
    "id": "eIXcIfUjl3QM"
   },
   "source": [
    "# Proximity Measures \n",
    "\n",
    "## Motivation\n",
    "Datasets are often represented as a matrix in which each row is an instance of data and each column represents a feature of that data. \n",
    "\n",
    "$$\n",
    "M = \n",
    "\\begin{bmatrix}\n",
    "x11 & x12 & x13 & ... & x1d \\\\\n",
    "x21 & x22 & x23 & ... & x2d \\\\\n",
    "... & ... & ... & ... & ... \\\\\n",
    "xn1 & xn2 & xn3 & ... & xnd \n",
    "\\end{bmatrix}\n",
    "$$\n",
    "\n",
    "For example, the dataset  \n",
    "\n",
    "  \n",
    "| Item | Feature #1 | Feature #1 |\n",
    "|------|------------|------------|\n",
    "| x1   | 1.5        | 5055       |\n",
    "| x2   | 2.3        | 5943       |\n",
    "| x3   | 5.4        | 7100       |\n",
    "| x4   | 3.2        | 8590       |\n",
    "  \n",
    "\n",
    "Can be represented as: \n",
    "\n",
    "$$\n",
    "M = \n",
    "\\begin{bmatrix}\n",
    "1.5 & 5055 \\\\\n",
    "2.3 & 5943 \\\\\n",
    "5.4 & 7100 \\\\\n",
    "3.2 & 8590\n",
    "\\end{bmatrix}\n",
    "$$\n",
    "\n",
    "\n",
    "Proximity Measures allow generating a real number, preferebly but not necessarely in range `[0,1]`,  that represents the similarity (or dissimilarity) of instances in a dataset. This allow a wide number of statistical and DS techniques.\n",
    "\n",
    "For example, it's possible to group items in **clusters**, a set of similar items that have internal cohesion and external separation. \n",
    "\n",
    "\n",
    "Proximity measures are denoted by `d(xi, xj)`, being `x` an instance of a dataset (row of matrix). \n"
   ]
  },
  {
   "cell_type": "markdown",
   "metadata": {
    "id": "bSoPma94vwIf"
   },
   "source": [
    "# Properties of a dissimilarity measure\n",
    "\n",
    "1. Simetry: `d(xi, xj) = d (xj, xi)`\n",
    "2. Positivity: `d(xi, xj) >= 0 for all pair xi, xj`\n",
    "3. Reflexivity: `d(xi, xj) = 0 if, and only if xi = xj`\n",
    "4. Triangle Inequality applies "
   ]
  },
  {
   "cell_type": "markdown",
   "metadata": {
    "id": "Ap9nUrUcwD_r"
   },
   "source": [
    "# Euclidian Distance\n",
    "\n",
    "Euclidian distance can be applied to **continuous data** (numeric, real numbers). It's calculated as: \n",
    "\n",
    "![image](https://user-images.githubusercontent.com/49366837/193611845-6e0f314f-62ec-4b73-89f7-21b3a6c2a547.png)\n",
    "\n",
    "It is noticable that:\n",
    "1. features with bigger values/variances can \"dominate\" the euclidian distance. Therefore it may be interesting to normalize data. "
   ]
  },
  {
   "cell_type": "code",
   "execution_count": null,
   "metadata": {
    "colab": {
     "base_uri": "https://localhost:8080/",
     "height": 505
    },
    "id": "V7-w6Nh6twSe",
    "outputId": "7bbfd947-72dc-4bb5-d7f8-d8b91fff27e0"
   },
   "outputs": [],
   "source": [
    "import requests\n",
    "import pandas as pd \n",
    "from io import StringIO\n",
    "\n",
    "\n",
    "data = pd.read_csv('https://raw.githubusercontent.com/nluizsoliveira/'\n",
    "                   'Data-Notes/main/csvs/1_bank.csv')\n",
    "data"
   ]
  },
  {
   "cell_type": "code",
   "execution_count": null,
   "metadata": {},
   "outputs": [],
   "source": []
  }
 ],
 "metadata": {
  "colab": {
   "authorship_tag": "ABX9TyNF29ugUjoP8qL0DFlmCySl",
   "collapsed_sections": [],
   "include_colab_link": true,
   "provenance": []
  },
  "kernelspec": {
   "display_name": "Python 3 (ipykernel)",
   "language": "python",
   "name": "python3"
  },
  "language_info": {
   "codemirror_mode": {
    "name": "ipython",
    "version": 3
   },
   "file_extension": ".py",
   "mimetype": "text/x-python",
   "name": "python",
   "nbconvert_exporter": "python",
   "pygments_lexer": "ipython3",
   "version": "3.8.10"
  }
 },
 "nbformat": 4,
 "nbformat_minor": 4
}
